{
 "cells": [
  {
   "cell_type": "code",
   "execution_count": 1,
   "metadata": {},
   "outputs": [],
   "source": [
    "import pandas as pd\n",
    "import re\n",
    "from pyhanlp import *\n",
    "import json\n",
    "\n",
    "import numpy as np\n",
    "from tqdm import tqdm\n",
    "tqdm.pandas(desc=\"progress-bar\")\n",
    "from gensim.models import Doc2Vec\n",
    "from sklearn import utils\n",
    "from sklearn.model_selection import train_test_split\n",
    "import gensim\n",
    "from sklearn.linear_model import LogisticRegression\n",
    "from gensim.models.doc2vec import TaggedDocument\n",
    "import seaborn as sns\n",
    "import matplotlib.pyplot as plt"
   ]
  },
  {
   "cell_type": "code",
   "execution_count": 22,
   "metadata": {},
   "outputs": [],
   "source": [
    "data = []\n",
    "label = []\n",
    "for root, dirs, files in os.walk('./分词结果/'): \n",
    "    for file in files:\n",
    "        if '其它' not in file:\n",
    "            fr = open('./分词结果/' + file, 'r',encoding='utf-8')\n",
    "            for line in fr.readlines():\n",
    "                line = [word.split('/')[0] for word in line.split(' ') if 'n' in word]\n",
    "                data.append(line)\n",
    "                label.append(file.split('.')[0])"
   ]
  },
  {
   "cell_type": "code",
   "execution_count": 23,
   "metadata": {},
   "outputs": [],
   "source": [
    "dataf = pd.DataFrame({'类别':label,'内容':data})"
   ]
  },
  {
   "cell_type": "code",
   "execution_count": 18,
   "metadata": {},
   "outputs": [
    {
     "data": {
      "text/plain": [
       "array(['婚恋交友', '电子电器', '网络服务', '旅游交通', '教育培训', '网络购物', '其它', '共享服务',\n",
       "       '房产家居', '金融保险', '汽车行业'], dtype=object)"
      ]
     },
     "execution_count": 18,
     "metadata": {},
     "output_type": "execute_result"
    }
   ],
   "source": [
    "df.类别.unique()"
   ]
  },
  {
   "cell_type": "code",
   "execution_count": 24,
   "metadata": {},
   "outputs": [
    {
     "data": {
      "text/plain": [
       "array(['婚恋交友', '电子电器', '网络服务', '旅游交通', '教育培训', '网络购物', '共享服务', '房产家居',\n",
       "       '金融保险', '汽车行业'], dtype=object)"
      ]
     },
     "execution_count": 24,
     "metadata": {},
     "output_type": "execute_result"
    }
   ],
   "source": [
    "dataf.类别.unique()"
   ]
  },
  {
   "cell_type": "code",
   "execution_count": 26,
   "metadata": {},
   "outputs": [],
   "source": [
    "import nltk\n",
    "train, test = train_test_split(dataf, test_size=0.3, random_state=46)\n",
    "train_tagged = train.apply(\n",
    "    lambda r: TaggedDocument(words=r.内容, tags=[r.类别]), axis=1)\n",
    "test_tagged = test.apply(\n",
    "    lambda r: TaggedDocument(words=r.内容, tags=[r.类别]), axis=1)"
   ]
  },
  {
   "cell_type": "code",
   "execution_count": 33,
   "metadata": {},
   "outputs": [
    {
     "data": {
      "text/plain": [
       "TaggedDocument(words=['小象', '优品', '笔', '借款', '平台', '贷款', '负债', '失业', '资金周转', '困难', '小象', '优品', '协商', '本金', '客服', '生命', '人', '笔', '借款', '砍头', '息', '月', '利息', '本金', '上岸', '找朋友', '本金', '钱', '协商', '小象', '优品', '平台', '账单', '借款', '合同', '砍头', '息', '小象', '优品', '可能会', '轻生', '本金', '银行贷款', '相符合', '利息', '心理', '压力'], tags=['金融保险'])"
      ]
     },
     "execution_count": 33,
     "metadata": {},
     "output_type": "execute_result"
    }
   ],
   "source": [
    "train_tagged.values[4]\n"
   ]
  },
  {
   "cell_type": "code",
   "execution_count": 34,
   "metadata": {},
   "outputs": [],
   "source": [
    "import multiprocessing\n",
    "cores = multiprocessing.cpu_count()"
   ]
  },
  {
   "cell_type": "code",
   "execution_count": 35,
   "metadata": {},
   "outputs": [
    {
     "name": "stderr",
     "output_type": "stream",
     "text": [
      "100%|██████████| 692322/692322 [00:00<00:00, 3348920.68it/s]\n"
     ]
    }
   ],
   "source": [
    "model_dbow = Doc2Vec(dm=0, vector_size=300, negative=5, hs=0, min_count=2, sample = 0, workers=cores)\n",
    "model_dbow.build_vocab([x for x in tqdm(train_tagged.values)])"
   ]
  },
  {
   "cell_type": "code",
   "execution_count": 36,
   "metadata": {},
   "outputs": [
    {
     "name": "stderr",
     "output_type": "stream",
     "text": [
      "100%|██████████| 692322/692322 [00:00<00:00, 3203492.45it/s]\n",
      "100%|██████████| 692322/692322 [00:00<00:00, 3298628.36it/s]\n",
      "100%|██████████| 692322/692322 [00:00<00:00, 3197214.07it/s]\n",
      "100%|██████████| 692322/692322 [00:00<00:00, 3334966.78it/s]\n",
      "100%|██████████| 692322/692322 [00:00<00:00, 3206230.18it/s]\n",
      "100%|██████████| 692322/692322 [00:00<00:00, 3278850.40it/s]\n",
      "100%|██████████| 692322/692322 [00:00<00:00, 3198045.07it/s]\n",
      "100%|██████████| 692322/692322 [00:00<00:00, 3213198.14it/s]\n",
      "100%|██████████| 692322/692322 [00:00<00:00, 3211140.80it/s]\n",
      "100%|██████████| 692322/692322 [00:00<00:00, 3247516.32it/s]\n",
      "100%|██████████| 692322/692322 [00:00<00:00, 3174623.35it/s]\n",
      "100%|██████████| 692322/692322 [00:00<00:00, 3274114.57it/s]\n",
      "100%|██████████| 692322/692322 [00:00<00:00, 3275107.92it/s]\n",
      "100%|██████████| 692322/692322 [00:00<00:00, 3278920.75it/s]\n",
      "100%|██████████| 692322/692322 [00:00<00:00, 3259092.37it/s]\n",
      "100%|██████████| 692322/692322 [00:00<00:00, 3371390.45it/s]\n",
      "100%|██████████| 692322/692322 [00:00<00:00, 2802368.79it/s]\n",
      "100%|██████████| 692322/692322 [00:00<00:00, 3242117.40it/s]\n",
      "100%|██████████| 692322/692322 [00:00<00:00, 3247458.21it/s]\n",
      "100%|██████████| 692322/692322 [00:00<00:00, 3285490.99it/s]\n",
      "100%|██████████| 692322/692322 [00:00<00:00, 3295644.60it/s]\n",
      "100%|██████████| 692322/692322 [00:00<00:00, 3228585.24it/s]\n",
      "100%|██████████| 692322/692322 [00:00<00:00, 3219086.24it/s]\n",
      "100%|██████████| 692322/692322 [00:00<00:00, 3310802.58it/s]\n",
      "100%|██████████| 692322/692322 [00:00<00:00, 3264004.93it/s]\n",
      "100%|██████████| 692322/692322 [00:00<00:00, 3251039.45it/s]\n",
      "100%|██████████| 692322/692322 [00:00<00:00, 3284212.73it/s]\n",
      "100%|██████████| 692322/692322 [00:00<00:00, 3368863.73it/s]\n",
      "100%|██████████| 692322/692322 [00:00<00:00, 3219668.03it/s]\n",
      "100%|██████████| 692322/692322 [00:00<00:00, 3242012.43it/s]\n"
     ]
    },
    {
     "name": "stdout",
     "output_type": "stream",
     "text": [
      "CPU times: user 30min 55s, sys: 4min 19s, total: 35min 15s\n",
      "Wall time: 20min 32s\n"
     ]
    }
   ],
   "source": [
    "%%time\n",
    "for epoch in range(30):\n",
    "    model_dbow.train(utils.shuffle([x for x in tqdm(train_tagged.values)]), total_examples=len(train_tagged.values), epochs=1)\n",
    "    model_dbow.alpha -= 0.002\n",
    "    model_dbow.min_alpha = model_dbow.alpha"
   ]
  },
  {
   "cell_type": "code",
   "execution_count": 37,
   "metadata": {},
   "outputs": [],
   "source": [
    "def vec_for_learning(model, tagged_docs):\n",
    "    sents = tagged_docs.values\n",
    "    targets, regressors = zip(*[(doc.tags[0], model.infer_vector(doc.words, steps=20)) for doc in sents])\n",
    "    return targets, regressors"
   ]
  },
  {
   "cell_type": "code",
   "execution_count": 38,
   "metadata": {},
   "outputs": [
    {
     "name": "stdout",
     "output_type": "stream",
     "text": [
      "Testing accuracy 0.5226517474975565\n",
      "Testing F1 score: 0.39626688830422335\n"
     ]
    },
    {
     "name": "stderr",
     "output_type": "stream",
     "text": [
      "/Users/yuchenshen/anaconda3/lib/python3.6/site-packages/sklearn/metrics/classification.py:1135: UndefinedMetricWarning: F-score is ill-defined and being set to 0.0 in labels with no predicted samples.\n",
      "  'precision', 'predicted', average, warn_for)\n"
     ]
    }
   ],
   "source": [
    "y_train, X_train = vec_for_learning(model_dbow, train_tagged)\n",
    "y_test, X_test = vec_for_learning(model_dbow, test_tagged)\n",
    "logreg = LogisticRegression(n_jobs=1, C=1e5)\n",
    "logreg.fit(X_train, y_train)\n",
    "y_pred = logreg.predict(X_test)\n",
    "from sklearn.metrics import accuracy_score, f1_score\n",
    "print('Testing accuracy %s' % accuracy_score(y_test, y_pred))\n",
    "print('Testing F1 score: {}'.format(f1_score(y_test, y_pred, average='weighted')))"
   ]
  },
  {
   "cell_type": "code",
   "execution_count": null,
   "metadata": {},
   "outputs": [],
   "source": []
  }
 ],
 "metadata": {
  "kernelspec": {
   "display_name": "Python 3",
   "language": "python",
   "name": "python3"
  },
  "language_info": {
   "codemirror_mode": {
    "name": "ipython",
    "version": 3
   },
   "file_extension": ".py",
   "mimetype": "text/x-python",
   "name": "python",
   "nbconvert_exporter": "python",
   "pygments_lexer": "ipython3",
   "version": "3.6.8"
  }
 },
 "nbformat": 4,
 "nbformat_minor": 2
}
