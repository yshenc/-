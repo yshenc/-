{
 "cells": [
  {
   "cell_type": "code",
   "execution_count": 3,
   "metadata": {},
   "outputs": [],
   "source": [
    "import pandas as pd\n",
    "import os\n",
    "import re\n",
    "from pyhanlp import *\n",
    "from gensim import corpora, models, similarities\n",
    "import json"
   ]
  },
  {
   "cell_type": "code",
   "execution_count": 4,
   "metadata": {},
   "outputs": [
    {
     "name": "stdout",
     "output_type": "stream",
     "text": [
      "教育培训.xlsx\n",
      "旅游交通.xlsx\n",
      "分词——统计.ipynb\n",
      "电子电器.xlsx\n",
      ".DS_Store\n",
      "哈工大停用词表.txt\n",
      "婚恋交友.xlsx\n",
      "文本分类.ipynb\n",
      "LDA主题模型.ipynb\n",
      "房产家居.xlsx\n",
      "分类模型测试.txt\n",
      "物流快递.xlsx\n",
      "未完成分类.xlsx\n",
      "教育分词.txt\n",
      "文本分类-checkpoint.ipynb\n",
      "LDA主题模型-checkpoint.ipynb\n",
      "分词——统计-checkpoint.ipynb\n"
     ]
    }
   ],
   "source": [
    "for root, dirs, files in os.walk('./'): \n",
    "    for file in files:\n",
    "        print(file)\n",
    "        if '.xlsx' in file and '未完成' not in file:\n",
    "            text = pd.read_excel(file)\n",
    "            text.to_csv('LDA测试数据.csv', sep='|', mode='a', index=False)"
   ]
  },
  {
   "cell_type": "code",
   "execution_count": 5,
   "metadata": {},
   "outputs": [],
   "source": [
    "data = pd.read_csv('./LDA测试数据.csv', sep='|')"
   ]
  },
  {
   "cell_type": "code",
   "execution_count": 6,
   "metadata": {
    "scrolled": true
   },
   "outputs": [
    {
     "data": {
      "text/html": [
       "<div>\n",
       "<style scoped>\n",
       "    .dataframe tbody tr th:only-of-type {\n",
       "        vertical-align: middle;\n",
       "    }\n",
       "\n",
       "    .dataframe tbody tr th {\n",
       "        vertical-align: top;\n",
       "    }\n",
       "\n",
       "    .dataframe thead th {\n",
       "        text-align: right;\n",
       "    }\n",
       "</style>\n",
       "<table border=\"1\" class=\"dataframe\">\n",
       "  <thead>\n",
       "    <tr style=\"text-align: right;\">\n",
       "      <th></th>\n",
       "      <th>id</th>\n",
       "      <th>cpi_industrytext</th>\n",
       "      <th>cpi_industrytext2</th>\n",
       "      <th>cpi_brandtext</th>\n",
       "      <th>cpi_issue_text</th>\n",
       "      <th>cpi_consume_date</th>\n",
       "      <th>cpi_consume_amount</th>\n",
       "      <th>cpi_purpose</th>\n",
       "      <th>cpi_company_name</th>\n",
       "      <th>cpi_title</th>\n",
       "      <th>cpi_content</th>\n",
       "    </tr>\n",
       "  </thead>\n",
       "  <tbody>\n",
       "    <tr>\n",
       "      <th>0</th>\n",
       "      <td>13363030</td>\n",
       "      <td>教育培训</td>\n",
       "      <td>教育培训</td>\n",
       "      <td>NaN</td>\n",
       "      <td>投诉问题：退款问题,诱导消费,培训贷,虚假宣传,态度恶劣</td>\n",
       "      <td>2019-10-22</td>\n",
       "      <td>30000.0</td>\n",
       "      <td>投诉要求： 退款</td>\n",
       "      <td>四川仁和会计教育培训</td>\n",
       "      <td>诱导消费贷款，虚假宣传，假合同</td>\n",
       "      <td>本人在2017年通过家人缴费9800元到仁和会计学校高新校区学习会计核算班后，在2018年6...</td>\n",
       "    </tr>\n",
       "    <tr>\n",
       "      <th>1</th>\n",
       "      <td>13342681</td>\n",
       "      <td>教育培训</td>\n",
       "      <td>教育培训</td>\n",
       "      <td>NaN</td>\n",
       "      <td>投诉问题：欺诈学费学费</td>\n",
       "      <td>2019-10-16</td>\n",
       "      <td>16000.0</td>\n",
       "      <td>投诉要求： 退款,要求一分不少退还学费</td>\n",
       "      <td>翰苑教育培训中心</td>\n",
       "      <td>起诉瀚苑教育机构</td>\n",
       "      <td>我在2017年报了一个教育机构，当时是在我大学学校门口的教育机构，当时报考的梁老师承诺我不用...</td>\n",
       "    </tr>\n",
       "    <tr>\n",
       "      <th>2</th>\n",
       "      <td>13391742</td>\n",
       "      <td>教育培训</td>\n",
       "      <td>教育培训</td>\n",
       "      <td>NaN</td>\n",
       "      <td>投诉问题：服务不到位,虚假宣传</td>\n",
       "      <td>2019-10-31</td>\n",
       "      <td>36000.0</td>\n",
       "      <td>投诉要求： 退款,作出处罚</td>\n",
       "      <td>惠州市突破教育培训中心</td>\n",
       "      <td>投诉惠州突破教育培训机构</td>\n",
       "      <td>我小孩是半路上转过来读书的，家里跟这边教材不一样。为了孩子能尽快适应这边学习，就去找培训机构...</td>\n",
       "    </tr>\n",
       "    <tr>\n",
       "      <th>3</th>\n",
       "      <td>12098077</td>\n",
       "      <td>教育培训</td>\n",
       "      <td>教育培训</td>\n",
       "      <td>NaN</td>\n",
       "      <td>投诉问题：导致报考再等一年</td>\n",
       "      <td>2019-09-07</td>\n",
       "      <td>10000.0</td>\n",
       "      <td>投诉要求： 赔偿</td>\n",
       "      <td>菏泽天虹教育培训学校</td>\n",
       "      <td>本来报考专升本结果给报成了高升本，导致报考再等一年，造成严重损失</td>\n",
       "      <td>本来*看到函授本科，自己是大专毕业工作后考虑到综合原因需要提升学历就找到了菏泽天虹教育培训学...</td>\n",
       "    </tr>\n",
       "    <tr>\n",
       "      <th>4</th>\n",
       "      <td>11025533</td>\n",
       "      <td>教育培训</td>\n",
       "      <td>教育培训</td>\n",
       "      <td>NaN</td>\n",
       "      <td>投诉问题：客服不处理,服务不到位,虚假宣传,霸王条款</td>\n",
       "      <td>2019-07-22</td>\n",
       "      <td>2830.0</td>\n",
       "      <td>投诉要求： 退款,改善服务</td>\n",
       "      <td>芸学教育培训</td>\n",
       "      <td>芸学教育培训</td>\n",
       "      <td>之前在抖音看到可以报考心理咨询师的广告，然后就填写了资料，后面一个叫芸学教育的谢老师打了我的...</td>\n",
       "    </tr>\n",
       "  </tbody>\n",
       "</table>\n",
       "</div>"
      ],
      "text/plain": [
       "         id cpi_industrytext cpi_industrytext2 cpi_brandtext  \\\n",
       "0  13363030             教育培训              教育培训           NaN   \n",
       "1  13342681             教育培训              教育培训           NaN   \n",
       "2  13391742             教育培训              教育培训           NaN   \n",
       "3  12098077             教育培训              教育培训           NaN   \n",
       "4  11025533             教育培训              教育培训           NaN   \n",
       "\n",
       "                 cpi_issue_text cpi_consume_date cpi_consume_amount  \\\n",
       "0  投诉问题：退款问题,诱导消费,培训贷,虚假宣传,态度恶劣       2019-10-22            30000.0   \n",
       "1                   投诉问题：欺诈学费学费       2019-10-16            16000.0   \n",
       "2               投诉问题：服务不到位,虚假宣传       2019-10-31            36000.0   \n",
       "3                 投诉问题：导致报考再等一年       2019-09-07            10000.0   \n",
       "4    投诉问题：客服不处理,服务不到位,虚假宣传,霸王条款       2019-07-22             2830.0   \n",
       "\n",
       "           cpi_purpose cpi_company_name                         cpi_title  \\\n",
       "0             投诉要求： 退款       四川仁和会计教育培训                   诱导消费贷款，虚假宣传，假合同   \n",
       "1  投诉要求： 退款,要求一分不少退还学费         翰苑教育培训中心                          起诉瀚苑教育机构   \n",
       "2        投诉要求： 退款,作出处罚      惠州市突破教育培训中心                      投诉惠州突破教育培训机构   \n",
       "3             投诉要求： 赔偿       菏泽天虹教育培训学校  本来报考专升本结果给报成了高升本，导致报考再等一年，造成严重损失   \n",
       "4        投诉要求： 退款,改善服务           芸学教育培训                            芸学教育培训   \n",
       "\n",
       "                                         cpi_content  \n",
       "0  本人在2017年通过家人缴费9800元到仁和会计学校高新校区学习会计核算班后，在2018年6...  \n",
       "1  我在2017年报了一个教育机构，当时是在我大学学校门口的教育机构，当时报考的梁老师承诺我不用...  \n",
       "2  我小孩是半路上转过来读书的，家里跟这边教材不一样。为了孩子能尽快适应这边学习，就去找培训机构...  \n",
       "3  本来*看到函授本科，自己是大专毕业工作后考虑到综合原因需要提升学历就找到了菏泽天虹教育培训学...  \n",
       "4  之前在抖音看到可以报考心理咨询师的广告，然后就填写了资料，后面一个叫芸学教育的谢老师打了我的...  "
      ]
     },
     "execution_count": 6,
     "metadata": {},
     "output_type": "execute_result"
    }
   ],
   "source": [
    "data.head()"
   ]
  },
  {
   "cell_type": "code",
   "execution_count": 7,
   "metadata": {},
   "outputs": [],
   "source": [
    "#HanLP.Config.ShowTermNature = False\n",
    "CoreStopWordDictionary = JClass(\"com.hankcs.hanlp.dictionary.stopword.CoreStopWordDictionary\")"
   ]
  },
  {
   "cell_type": "code",
   "execution_count": 8,
   "metadata": {},
   "outputs": [],
   "source": [
    "\"\"\"创建停用词列表\"\"\"\n",
    "def stopwordslist():\n",
    "    stopwords = [line.strip() for line in open('./哈工大停用词表.txt',encoding='UTF-8').readlines()]\n",
    "    return stopwords"
   ]
  },
  {
   "cell_type": "code",
   "execution_count": 9,
   "metadata": {},
   "outputs": [],
   "source": [
    "def seg_depart(sentence):\n",
    "    sentence_depart = HanLP.segment(sentence)\n",
    "    stopwords = stopwordslist()\n",
    "    outstr = ''\n",
    "    for word in sentence_depart:\n",
    "        word = word.toString()\n",
    "        judge = word.split('/')\n",
    "        if judge[0] not in stopwords:\n",
    "            outstr += judge[0]\n",
    "            outstr += \" \"\n",
    "    # outstr：'黄蜂 湖人 首发 科比 带伤 战 保罗 加索尔 ...'       \n",
    "    return outstr"
   ]
  },
  {
   "cell_type": "code",
   "execution_count": 10,
   "metadata": {},
   "outputs": [
    {
     "name": "stdout",
     "output_type": "stream",
     "text": [
      "删除停用词和分词成功！！！\n"
     ]
    }
   ],
   "source": [
    "if not os.path.exists(\"./测试.txt\"):\n",
    "    outfilename = \"./测试.txt\"\n",
    "    inputs = pd.read_csv('./LDA测试数据.csv', sep='|')\n",
    "    outputs = open(outfilename, 'w', encoding='UTF-8')\n",
    "\n",
    "    # 把非汉字的字符全部去掉\n",
    "    for line in inputs['cpi_content']:\n",
    "        line = re.sub(r'[^\\u4e00-\\u9fa5]+','',str(line))\n",
    "        line_seg = seg_depart(line.strip())\n",
    "        outputs.write(line_seg.strip() + '\\n')\n",
    "\n",
    "    outputs.close()\n",
    "    print(\"删除停用词和分词成功！！！\")"
   ]
  },
  {
   "cell_type": "code",
   "execution_count": 12,
   "metadata": {},
   "outputs": [],
   "source": [
    "##pyLDAvis 主题模型可视化"
   ]
  },
  {
   "cell_type": "code",
   "execution_count": 11,
   "metadata": {},
   "outputs": [],
   "source": [
    "\"\"\"准备好训练语料，整理成gensim需要的输入格式\"\"\"\n",
    "fr = open('./测试.txt', 'r',encoding='utf-8')\n",
    "train = []\n",
    "for line in fr.readlines():\n",
    "    line = [word.strip() for word in line.split(' ')]\n",
    "    train.append(line)"
   ]
  },
  {
   "cell_type": "code",
   "execution_count": 14,
   "metadata": {},
   "outputs": [
    {
     "name": "stdout",
     "output_type": "stream",
     "text": [
      "6个主题的单词分布为：\n",
      "\n",
      "(0, '0.022*\"损坏\" + 0.019*\"合同\" + 0.012*\"消费者\" + 0.009*\"不\" + 0.009*\"规定\" + 0.008*\"要求\" + 0.008*\"服务\" + 0.007*\"公司\" + 0.007*\"条款\" + 0.006*\"中\"')\n",
      "(1, '0.045*\"说\" + 0.029*\"顺丰\" + 0.024*\"不\" + 0.020*\"都\" + 0.017*\"没有\" + 0.016*\"还\" + 0.011*\"没\" + 0.010*\"打电话\" + 0.009*\"现在\" + 0.009*\"去\"')\n",
      "(2, '0.039*\"快递\" + 0.020*\"客服\" + 0.013*\"联系\" + 0.013*\"没有\" + 0.012*\"不\" + 0.010*\"员\" + 0.009*\"号\" + 0.009*\"电话\" + 0.009*\"月\" + 0.009*\"赔偿\"')\n",
      "(3, '0.018*\"\" + 0.014*\"公司\" + 0.014*\"催收\" + 0.013*\"元\" + 0.012*\"骚扰\" + 0.012*\"还\" + 0.011*\"电话\" + 0.010*\"通讯录\" + 0.009*\"小区\" + 0.009*\"信息\"')\n",
      "(4, '0.026*\"电脑\" + 0.013*\"手机\" + 0.012*\"年\" + 0.011*\"问题\" + 0.010*\"售后\" + 0.010*\"开机\" + 0.008*\"鱼\" + 0.008*\"使用\" + 0.008*\"显示器\" + 0.008*\"闲\"')\n",
      "(5, '0.044*\"顺丰\" + 0.032*\"元\" + 0.022*\"月\" + 0.019*\"客服\" + 0.016*\"押金\" + 0.016*\"没有\" + 0.014*\"不\" + 0.013*\"号\" + 0.011*\"退款\" + 0.011*\"还\"')\n"
     ]
    }
   ],
   "source": [
    "\"\"\"构建词频矩阵，训练LDA模型\"\"\"\n",
    "dictionary = corpora.Dictionary(train)\n",
    "# corpus[0]: [(0, 1), (1, 1), (2, 1), (3, 1), (4, 1),...]\n",
    "# corpus是把每条新闻ID化后的结果，每个元素是新闻中的每个词语，在字典中的ID和频率\n",
    "corpus = [dictionary.doc2bow(text) for text in train]\n",
    "\n",
    "lda = models.LdaModel(corpus=corpus, id2word=dictionary, num_topics=6)\n",
    "topic_list = lda.print_topics(6)\n",
    "print(\"6个主题的单词分布为：\\n\")\n",
    "for topic in topic_list:\n",
    "    print(topic)"
   ]
  },
  {
   "cell_type": "code",
   "execution_count": null,
   "metadata": {},
   "outputs": [],
   "source": []
  },
  {
   "cell_type": "markdown",
   "metadata": {},
   "source": [
    "## 评论主题"
   ]
  },
  {
   "cell_type": "code",
   "execution_count": 15,
   "metadata": {
    "scrolled": true
   },
   "outputs": [
    {
     "name": "stdout",
     "output_type": "stream",
     "text": [
      "这条教育新闻的主题分布为：\n",
      "\n",
      "[(0, 0.5019122), (1, 0.26264608), (3, 0.18277147), (4, 0.010993369), (5, 0.041176952)] \n",
      "\n",
      "这条jiaoyu新闻的主题分布为：\n",
      "\n",
      "[(1, 0.47817162), (3, 0.4220511), (5, 0.091068506)] \n",
      "\n",
      "这条jiaoyu新闻的主题分布为：\n",
      "\n",
      "[(0, 0.106965385), (1, 0.8033512), (2, 0.077292606), (3, 0.011370993)] \n",
      "\n"
     ]
    }
   ],
   "source": [
    "\"\"\"抽取新闻的主题\"\"\"\n",
    "\"\"\"\n",
    "# 用来测试的三条新闻，分别为体育、娱乐和科技新闻    \n",
    "file_test = \"./cnews.test.txt\"\n",
    "news_test = open(file_test, 'r', encoding='UTF-8')\n",
    "\"\"\"\n",
    "news_test = data['cpi_content'].iloc[0:3]\n",
    "test = []\n",
    "# 处理成正确的输入格式       \n",
    "for line in news_test:\n",
    "    #line = line.split('\\t')[1]\n",
    "    line = re.sub(r'[^\\u4e00-\\u9fa5]+','',line)\n",
    "    line_seg = seg_depart(line.strip())\n",
    "    line_seg = [word.strip() for word in line_seg.split(' ')]\n",
    "    test.append(line_seg)    \n",
    "    \n",
    "# 新闻ID化    \n",
    "corpus_test = [dictionary.doc2bow(text) for text in test]\n",
    "# 得到每条新闻的主题分布\n",
    "topics_test = lda.get_document_topics(corpus_test)  \n",
    "labels = ['教育','jiaoyu','jiaoyu']\n",
    "for i in range(3):\n",
    "    print('这条'+labels[i]+'新闻的主题分布为：\\n')\n",
    "    print(topics_test[i],'\\n')\n",
    "\n",
    "#fr.close()\n",
    "#news_test.close()"
   ]
  },
  {
   "cell_type": "code",
   "execution_count": null,
   "metadata": {},
   "outputs": [],
   "source": []
  }
 ],
 "metadata": {
  "kernelspec": {
   "display_name": "Python 3",
   "language": "python",
   "name": "python3"
  },
  "language_info": {
   "codemirror_mode": {
    "name": "ipython",
    "version": 3
   },
   "file_extension": ".py",
   "mimetype": "text/x-python",
   "name": "python",
   "nbconvert_exporter": "python",
   "pygments_lexer": "ipython3",
   "version": "3.6.8"
  }
 },
 "nbformat": 4,
 "nbformat_minor": 2
}
